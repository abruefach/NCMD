{
 "cells": [
  {
   "cell_type": "markdown",
   "metadata": {},
   "source": [
    "## Import required modules"
   ]
  },
  {
   "cell_type": "code",
   "execution_count": null,
   "metadata": {},
   "outputs": [],
   "source": [
    "import numpy as np\n",
    "import matplotlib.pyplot as plt\n",
    "import ase\n",
    "from ase import Atom, Atoms, cluster, units\n",
    "from ase.visualize import view\n",
    "from NCMD import create,simulate, analyze"
   ]
  },
  {
   "cell_type": "markdown",
   "metadata": {},
   "source": [
    "## Create Species to add to scene"
   ]
  },
  {
   "cell_type": "code",
   "execution_count": null,
   "metadata": {},
   "outputs": [],
   "source": [
    "cell_dimension = 500\n",
    "cell = np.array([[cell_dimension,0,0],[0,cell_dimension,0,],[0,0,cell_dimension]])\n",
    "a = 4.07 #Lattice parameter Au\n",
    "\n",
    "ico = ase.cluster.Icosahedron(symbol = 'Au', noshells = 2)\n",
    "dec = ase.cluster.Decahedron(symbol = 'Au', p = 1, q = 1, r = 1)\n",
    "tet_coords = [(0,0,0) , (0,a/2,a/2) , (a/2,a/2,0) , (a/2,0,a/2)]\n",
    "Au_tet = Atoms('Au4', positions = tet_coords)\n",
    "Au_pair = Atoms('Au2', positions = [(0,0,0), (0,0,a)])\n",
    "Au = Atoms('Au', positions = [(0,0,0)])"
   ]
  },
  {
   "cell_type": "code",
   "execution_count": null,
   "metadata": {},
   "outputs": [],
   "source": [
    "ico.set_cell(cell)\n",
    "dec.set_cell(cell)\n",
    "Au_tet.set_cell(cell)\n",
    "Au_pair.set_cell(cell)\n",
    "Au.set_cell(cell)"
   ]
  },
  {
   "cell_type": "markdown",
   "metadata": {},
   "source": [
    "## Create Scene and set simulation cell"
   ]
  },
  {
   "cell_type": "code",
   "execution_count": null,
   "metadata": {},
   "outputs": [],
   "source": [
    "atoms0 = create.create_scene(ico, ico, 54, 38)\n",
    "atoms1 = create.create_scene(atoms0, Au_tet, 40, 65)\n",
    "atoms2 = create.create_scene(atoms1, dec, 40, 20)\n",
    "atoms3 = create.create_scene(atoms2, Au_pair, 20, 56)\n",
    "atoms = create.create_scene(atoms3, Au, 20, 10)"
   ]
  },
  {
   "cell_type": "code",
   "execution_count": null,
   "metadata": {},
   "outputs": [],
   "source": [
    "##Checks the information within the atoms object to ensure that the number of atoms is appropriate\n",
    "\n",
    "atoms"
   ]
  },
  {
   "cell_type": "code",
   "execution_count": null,
   "metadata": {},
   "outputs": [],
   "source": [
    "atoms.set_cell(cell)\n",
    "atoms.center()"
   ]
  },
  {
   "cell_type": "markdown",
   "metadata": {},
   "source": [
    "## Check the created scene to ensure that the randomly allocated species were appropriately distributed"
   ]
  },
  {
   "cell_type": "code",
   "execution_count": null,
   "metadata": {},
   "outputs": [],
   "source": [
    "dists = atoms.get_all_distances()"
   ]
  },
  {
   "cell_type": "code",
   "execution_count": null,
   "metadata": {},
   "outputs": [],
   "source": [
    "#dists*=100\n",
    "dists_max = np.max(dists)\n",
    "dists_min = np.min(dists)\n",
    "print(dists_max)"
   ]
  },
  {
   "cell_type": "code",
   "execution_count": null,
   "metadata": {},
   "outputs": [],
   "source": [
    "dist_counts, dist_bins = analyze.get_radial_distance(atoms, np.arange(0,600,0.1))"
   ]
  },
  {
   "cell_type": "code",
   "execution_count": null,
   "metadata": {},
   "outputs": [],
   "source": [
    "fig, ax = plt.subplots()\n",
    "ax.plot(dist_bins, dist_counts)\n",
    "ax.set_xlabel('Distance (Angstroms)', size = 15)\n",
    "ax.set_ylabel('Counts', size = 15)\n",
    "plt.show()"
   ]
  },
  {
   "cell_type": "code",
   "execution_count": null,
   "metadata": {},
   "outputs": [],
   "source": [
    "view(atoms)"
   ]
  },
  {
   "cell_type": "code",
   "execution_count": null,
   "metadata": {},
   "outputs": [],
   "source": [
    "atoms.set_pbc(True)\n",
    "atoms.get_pbc()"
   ]
  },
  {
   "cell_type": "markdown",
   "metadata": {},
   "source": [
    "## Write out scene for MD_simulate.ipynb"
   ]
  },
  {
   "cell_type": "code",
   "execution_count": null,
   "metadata": {},
   "outputs": [],
   "source": [
    "scene_name = 'test_scene.xyz'\n",
    "ase.io.write(scene_name, atoms)"
   ]
  },
  {
   "cell_type": "markdown",
   "metadata": {},
   "source": [
    "## Simulate (import relevant data if skipping scene builder)"
   ]
  },
  {
   "cell_type": "code",
   "execution_count": null,
   "metadata": {},
   "outputs": [],
   "source": [
    "# Attach a Lennard-Jones pair-potential\n",
    "sigma = 0.2651 * units.nm  # 1\n",
    "epsilon = 2567*units.kB    # 1\n",
    "r_cutoff = 3*sigma\n",
    "r_onset = 2/3*r_cutoff"
   ]
  },
  {
   "cell_type": "code",
   "execution_count": null,
   "metadata": {},
   "outputs": [],
   "source": [
    "r = np.arange(0.0001,10,step=0.0001)\n",
    "lj_pot = (4 * epsilon) * ( (sigma/r)**12 - (sigma/r)**6 )\n",
    "lj_f = -(24 * epsilon * sigma**6) *( (1/r**7) - (2*sigma**6 / r**13))"
   ]
  },
  {
   "cell_type": "code",
   "execution_count": null,
   "metadata": {},
   "outputs": [],
   "source": [
    "fig, ax = plt.subplots(figsize = (6,5))\n",
    "ax.plot(r,lj_pot, label = 'Potential', color = 'r')\n",
    "ax.plot(r, lj_f, label = 'Force', color = 'b')\n",
    "\n",
    "ax.set_ylim(-0.4,0.6)\n",
    "ax.set_xlim(2,8)\n",
    "ax.vlines((r_onset),ax.get_ylim()[0],ax.get_ylim()[1],ls=':', color = 'k', label = 'Cutoff')\n",
    "ax.set_xlabel('r')\n",
    "ax.set_ylabel('V(r) or F(r)')\n",
    "plt.legend()\n",
    "\n",
    "plt.show()"
   ]
  },
  {
   "cell_type": "code",
   "execution_count": null,
   "metadata": {},
   "outputs": [],
   "source": [
    "scene_name = 'test_scene.xyz'\n",
    "in_dat = ase.io.read(filename = scene_name)\n",
    "in_dat.set_cell(cell)\n",
    "in_dat.center()\n",
    "in_dat.set_pbc(True)\n",
    "atoms = in_dat"
   ]
  },
  {
   "cell_type": "code",
   "execution_count": null,
   "metadata": {},
   "outputs": [],
   "source": [
    "atoms.set_pbc([True, True, True])\n",
    "atoms.pbc"
   ]
  },
  {
   "cell_type": "code",
   "execution_count": null,
   "metadata": {},
   "outputs": [],
   "source": [
    "calc = lj.LennardJones()\n",
    "calc.parameters"
   ]
  },
  {
   "cell_type": "code",
   "execution_count": null,
   "metadata": {},
   "outputs": [],
   "source": [
    "calc.parameters['epsilon'] = epsilon\n",
    "calc.parameters['sigma'] = sigma\n",
    "calc.parameters['rc'] = r_cutoff\n",
    "calc.parameters['ro'] = r_onset"
   ]
  },
  {
   "cell_type": "code",
   "execution_count": null,
   "metadata": {},
   "outputs": [],
   "source": [
    "calc.parameters"
   ]
  },
  {
   "cell_type": "code",
   "execution_count": null,
   "metadata": {},
   "outputs": [],
   "source": [
    "calc = LennardJones(atoms.arrays['numbers'][0], sigma=sigma, epsilon=epsilon, rCut=r_cutoff, modified=True)"
   ]
  },
  {
   "cell_type": "code",
   "execution_count": null,
   "metadata": {},
   "outputs": [],
   "source": [
    "atoms.calc = calc\n",
    "fn = 'test_simulation.traj'"
   ]
  },
  {
   "cell_type": "code",
   "execution_count": null,
   "metadata": {},
   "outputs": [],
   "source": [
    "atoms_final = sim.simulate(atoms, fn = fn, temp = 100, \n",
    "                           time_step = 5, length = 1000, friction =0.005,\n",
    "                          writeout = 100)"
   ]
  },
  {
   "cell_type": "code",
   "execution_count": null,
   "metadata": {},
   "outputs": [],
   "source": [
    "traj2 = ase.io.read(fn, index='1:5000')\n",
    "view(traj2, viewer='ngl')"
   ]
  }
 ],
 "metadata": {
  "kernelspec": {
   "display_name": "md",
   "language": "python",
   "name": "md"
  },
  "language_info": {
   "codemirror_mode": {
    "name": "ipython",
    "version": 3
   },
   "file_extension": ".py",
   "mimetype": "text/x-python",
   "name": "python",
   "nbconvert_exporter": "python",
   "pygments_lexer": "ipython3",
   "version": "3.7.10"
  }
 },
 "nbformat": 4,
 "nbformat_minor": 4
}
