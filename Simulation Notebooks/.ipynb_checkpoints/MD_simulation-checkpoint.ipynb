{
 "cells": [
  {
   "cell_type": "markdown",
   "metadata": {},
   "source": [
    "## Hannah's Code"
   ]
  },
  {
   "cell_type": "code",
   "execution_count": 1,
   "metadata": {},
   "outputs": [],
   "source": [
    "import numpy as np\n",
    "import time\n",
    "import matplotlib.pyplot as plt\n",
    "import ase\n",
    "from ase import Atom, Atoms, cluster, units\n",
    "from ase.visualize import view\n",
    "from ase.build.attach import attach_randomly_and_broadcast\n",
    "from ase.md.langevin import Langevin\n",
    "from ase.io.trajectory import Trajectory\n",
    "from ase.calculators import lj\n",
    "\n",
    "\n",
    "from ase.md.verlet import VelocityVerlet\n",
    "#from ase.md.velocitydistribution import MaxwellBoltzmannDistribution\n",
    "\n",
    "# import asap3\n",
    "# from asap3.io.trajectory import Trajectory\n",
    "# from asap3.md.langevin import Langevin\n",
    "# from asap3.md.velocitydistribution import MaxwellBoltzmannDistribution\n",
    "# #from ase.md.velocitydistribution import _maxwellboltzmanndistribution as MaxwellBoltzmannDistribution\n",
    "from asap3 import LennardJones\n",
    "\n",
    "# from abtem.visualize import show_atoms"
   ]
  },
  {
   "cell_type": "code",
   "execution_count": 2,
   "metadata": {},
   "outputs": [],
   "source": [
    "import sim\n",
    "import md"
   ]
  },
  {
   "cell_type": "markdown",
   "metadata": {},
   "source": [
    "## Create Scene"
   ]
  },
  {
   "cell_type": "code",
   "execution_count": 3,
   "metadata": {},
   "outputs": [],
   "source": [
    "cell_dimension = 500\n",
    "cell = np.array([[cell_dimension,0,0],[0,cell_dimension,0,],[0,0,cell_dimension]])\n",
    "a = 4.07 #Lattice parameter Au\n",
    "\n",
    "ico = ase.cluster.Icosahedron(symbol = 'Au', noshells = 2)\n",
    "dec = ase.cluster.Decahedron(symbol = 'Au', p = 1, q = 1, r = 1)\n",
    "tet_coords = [(0,0,0) , (0,a/2,a/2) , (a/2,a/2,0) , (a/2,0,a/2)]\n",
    "Au_tet = Atoms('Au4', positions = tet_coords)\n",
    "Au_pair = Atoms('Au2', positions = [(0,0,0), (0,0,a)])\n",
    "Au = Atoms('Au', positions = [(0,0,0)])"
   ]
  },
  {
   "cell_type": "code",
   "execution_count": 5,
   "metadata": {},
   "outputs": [],
   "source": [
    "ico.set_cell(cell)\n",
    "dec.set_cell(cell)\n",
    "Au_tet.set_cell(cell)\n",
    "Au_pair.set_cell(cell)\n",
    "Au.set_cell(cell)"
   ]
  },
  {
   "cell_type": "code",
   "execution_count": 6,
   "metadata": {},
   "outputs": [],
   "source": [
    "atoms0 = sim.create_scene(ico, ico, 54, 38)\n",
    "atoms1 = sim.create_scene(atoms0, Au_tet, 40, 65)\n",
    "atoms2 = sim.create_scene(atoms1, dec, 40, 20)\n",
    "atoms3 = sim.create_scene(atoms2, Au_pair, 20, 56)\n",
    "atoms4 = sim.create_scene(atoms3, Au, 20, 119)"
   ]
  },
  {
   "cell_type": "code",
   "execution_count": 7,
   "metadata": {},
   "outputs": [
    {
     "data": {
      "text/plain": [
       "Atoms(symbols='Au1358', pbc=False, cell=[500.0, 500.0, 500.0], tags=...)"
      ]
     },
     "execution_count": 7,
     "metadata": {},
     "output_type": "execute_result"
    }
   ],
   "source": [
    "atoms4"
   ]
  },
  {
   "cell_type": "code",
   "execution_count": 8,
   "metadata": {},
   "outputs": [],
   "source": [
    "atoms4.set_cell(cell)\n",
    "atoms4.center()"
   ]
  },
  {
   "cell_type": "code",
   "execution_count": 9,
   "metadata": {},
   "outputs": [],
   "source": [
    "dists = atoms4.get_all_distances()"
   ]
  },
  {
   "cell_type": "code",
   "execution_count": 10,
   "metadata": {},
   "outputs": [
    {
     "name": "stdout",
     "output_type": "stream",
     "text": [
      "530.9021422241481\n",
      "0.0\n"
     ]
    }
   ],
   "source": [
    "#dists*=100\n",
    "dists_max = np.max(dists)\n",
    "dists_min = np.min(dists)\n",
    "print(dists_max)\n",
    "print(dists_min)"
   ]
  },
  {
   "cell_type": "code",
   "execution_count": 21,
   "metadata": {},
   "outputs": [],
   "source": [
    "dist_counts, dist_bins = md.get_radial_distance(atoms4, np.arange(0,500,0.1))"
   ]
  },
  {
   "cell_type": "code",
   "execution_count": 26,
   "metadata": {},
   "outputs": [
    {
     "data": {
      "image/png": "[encoded data removed]",
      "text/plain": [
       "<Figure size 432x288 with 1 Axes>"
      ]
     },
     "metadata": {
      "needs_background": "light"
     },
     "output_type": "display_data"
    }
   ],
   "source": [
    "fig, ax = plt.subplots()\n",
    "ax.plot(dist_bins, dist_counts)\n",
    "ax.set_xlabel('Distance (Angstroms)', size = 15)\n",
    "ax.set_ylabel('Counts', size = 15)\n",
    "plt.show()"
   ]
  },
  {
   "cell_type": "code",
   "execution_count": 25,
   "metadata": {},
   "outputs": [
    {
     "data": {
      "text/plain": [
       "<subprocess.Popen at 0x7fcbfc57fb90>"
      ]
     },
     "execution_count": 25,
     "metadata": {},
     "output_type": "execute_result"
    }
   ],
   "source": [
    "view(atoms4)"
   ]
  },
  {
   "cell_type": "code",
   "execution_count": 27,
   "metadata": {},
   "outputs": [
    {
     "data": {
      "text/plain": [
       "array([ True,  True,  True])"
      ]
     },
     "execution_count": 27,
     "metadata": {},
     "output_type": "execute_result"
    }
   ],
   "source": [
    "atoms4.set_pbc(True)\n",
    "atoms4.get_pbc()"
   ]
  },
  {
   "cell_type": "code",
   "execution_count": 6,
   "metadata": {},
   "outputs": [
    {
     "ename": "NameError",
     "evalue": "name 'atoms4' is not defined",
     "output_type": "error",
     "traceback": [
      "\u001b[0;31m---------------------------------------------------------------------------\u001b[0m",
      "\u001b[0;31mNameError\u001b[0m                                 Traceback (most recent call last)",
      "\u001b[0;32m<ipython-input-6-647adb200f82>\u001b[0m in \u001b[0;36m<module>\u001b[0;34m\u001b[0m\n\u001b[1;32m      1\u001b[0m \u001b[0mscene_name\u001b[0m \u001b[0;34m=\u001b[0m \u001b[0;34m'test_scene.xyz'\u001b[0m\u001b[0;34m\u001b[0m\u001b[0;34m\u001b[0m\u001b[0m\n\u001b[0;32m----> 2\u001b[0;31m \u001b[0mase\u001b[0m\u001b[0;34m.\u001b[0m\u001b[0mio\u001b[0m\u001b[0;34m.\u001b[0m\u001b[0mwrite\u001b[0m\u001b[0;34m(\u001b[0m\u001b[0mscene_name\u001b[0m\u001b[0;34m,\u001b[0m \u001b[0matoms4\u001b[0m\u001b[0;34m)\u001b[0m\u001b[0;34m\u001b[0m\u001b[0;34m\u001b[0m\u001b[0m\n\u001b[0m",
      "\u001b[0;31mNameError\u001b[0m: name 'atoms4' is not defined"
     ]
    }
   ],
   "source": [
    "scene_name = 'test_scene.xyz'\n",
    "ase.io.write(scene_name, atoms4)"
   ]
  },
  {
   "cell_type": "markdown",
   "metadata": {},
   "source": [
    "## Simulate (import relevant data if skipping scene builder)"
   ]
  },
  {
   "cell_type": "code",
   "execution_count": 4,
   "metadata": {},
   "outputs": [],
   "source": [
    "# Attach a Lennard-Jones pair-potential\n",
    "sigma = 0.2651 * units.nm  # 1\n",
    "epsilon = 2567*units.kB    # 1\n",
    "r_cutoff = 3*sigma\n",
    "r_onset = 2/3*r_cutoff"
   ]
  },
  {
   "cell_type": "code",
   "execution_count": 5,
   "metadata": {},
   "outputs": [],
   "source": [
    "r = np.arange(0.0001,10,step=0.0001)\n",
    "lj_pot = (4 * epsilon) * ( (sigma/r)**12 - (sigma/r)**6 )\n",
    "lj_f = -(24 * epsilon * sigma**6) *( (1/r**7) - (2*sigma**6 / r**13))"
   ]
  },
  {
   "cell_type": "code",
   "execution_count": 6,
   "metadata": {},
   "outputs": [
    {
     "data": {
      "image/png": "[encoded data removed]",
      "text/plain": [
       "<Figure size 432x360 with 1 Axes>"
      ]
     },
     "metadata": {
      "needs_background": "light"
     },
     "output_type": "display_data"
    }
   ],
   "source": [
    "fig, ax = plt.subplots(figsize = (6,5))\n",
    "ax.plot(r,lj_pot, label = 'Potential', color = 'r')\n",
    "ax.plot(r, lj_f, label = 'Force', color = 'b')\n",
    "\n",
    "ax.set_ylim(-0.4,0.6)\n",
    "ax.set_xlim(2,8)\n",
    "ax.vlines((r_onset),ax.get_ylim()[0],ax.get_ylim()[1],ls=':', color = 'k', label = 'Cutoff')\n",
    "ax.set_xlabel('r')\n",
    "ax.set_ylabel('V(r) or F(r)')\n",
    "plt.legend()\n",
    "\n",
    "plt.show()"
   ]
  },
  {
   "cell_type": "code",
   "execution_count": 7,
   "metadata": {},
   "outputs": [],
   "source": [
    "scene_name = 'test_scene.xyz'\n",
    "in_dat = ase.io.read(filename = scene_name)\n",
    "in_dat.set_cell(cell)\n",
    "in_dat.center()\n",
    "in_dat.set_pbc(True)\n",
    "atoms = in_dat"
   ]
  },
  {
   "cell_type": "code",
   "execution_count": 8,
   "metadata": {},
   "outputs": [
    {
     "data": {
      "text/plain": [
       "array([ True,  True,  True])"
      ]
     },
     "execution_count": 8,
     "metadata": {},
     "output_type": "execute_result"
    }
   ],
   "source": [
    "atoms.set_pbc([True, True, True])\n",
    "atoms.pbc"
   ]
  },
  {
   "cell_type": "code",
   "execution_count": 9,
   "metadata": {},
   "outputs": [
    {
     "data": {
      "text/plain": [
       "{'epsilon': 1.0, 'sigma': 1.0, 'rc': 3.0, 'ro': 1.98, 'smooth': False}"
      ]
     },
     "execution_count": 9,
     "metadata": {},
     "output_type": "execute_result"
    }
   ],
   "source": [
    "calc = lj.LennardJones()\n",
    "calc.parameters"
   ]
  },
  {
   "cell_type": "code",
   "execution_count": 10,
   "metadata": {},
   "outputs": [],
   "source": [
    "calc.parameters['epsilon'] = epsilon\n",
    "calc.parameters['sigma'] = sigma\n",
    "calc.parameters['rc'] = r_cutoff\n",
    "calc.parameters['ro'] = r_onset"
   ]
  },
  {
   "cell_type": "code",
   "execution_count": 11,
   "metadata": {},
   "outputs": [
    {
     "data": {
      "text/plain": [
       "{'epsilon': 0.22120686975636586,\n",
       " 'sigma': 2.651,\n",
       " 'rc': 7.952999999999999,\n",
       " 'ro': 5.302,\n",
       " 'smooth': False}"
      ]
     },
     "execution_count": 11,
     "metadata": {},
     "output_type": "execute_result"
    }
   ],
   "source": [
    "calc.parameters"
   ]
  },
  {
   "cell_type": "code",
   "execution_count": 12,
   "metadata": {},
   "outputs": [],
   "source": [
    "calc = LennardJones(atoms.arrays['numbers'][0], sigma=sigma, epsilon=epsilon, rCut=r_cutoff, modified=True)"
   ]
  },
  {
   "cell_type": "code",
   "execution_count": 13,
   "metadata": {},
   "outputs": [],
   "source": [
    "atoms.calc = calc"
   ]
  },
  {
   "cell_type": "code",
   "execution_count": 15,
   "metadata": {},
   "outputs": [
    {
     "name": "stderr",
     "output_type": "stream",
     "text": [
      "Using Asap-optimized C++-Langevin algorithm\n"
     ]
    }
   ],
   "source": [
    "atoms_final = sim.simulate(atoms, fn = 'test_simfunction.traj', temp = 100, \n",
    "                           time_step = 5, length = 1000, friction =0.005,\n",
    "                          writeout = 100)"
   ]
  },
  {
   "cell_type": "code",
   "execution_count": 313,
   "metadata": {},
   "outputs": [],
   "source": [
    "# Give particals an initial maxwell-boltzman distribution of velocities\n",
    "temp = 100    # Kelvin - roomtemp\n",
    "MaxwellBoltzmannDistribution(atoms, temperature_K=temp)"
   ]
  },
  {
   "cell_type": "code",
   "execution_count": 314,
   "metadata": {},
   "outputs": [
    {
     "name": "stderr",
     "output_type": "stream",
     "text": [
      "Using Asap-optimized C++-Langevin algorithm\n"
     ]
    }
   ],
   "source": [
    "# Simulation details (now an asap3 Langevin)\n",
    "time_step = 5   # fs\n",
    "alpha = 0.005\n",
    "\n",
    "dyn = Langevin( atoms, time_step*units.fs, temperature_K=temp, friction=alpha )"
   ]
  },
  {
   "cell_type": "code",
   "execution_count": 315,
   "metadata": {},
   "outputs": [],
   "source": [
    "# Create a trajectory object to write out trajectory info and attach it to the dynamic simulation \n",
    "fn = 'auscene2_T=100K_ts=5fs_steps=5000000_alpha=0.005_trial2.traj'\n",
    "write_out_interval = 100\n",
    "traj = Trajectory(fn, 'w', atoms)\n",
    "dyn.attach( traj.write, write_out_interval)"
   ]
  },
  {
   "cell_type": "code",
   "execution_count": 316,
   "metadata": {},
   "outputs": [
    {
     "name": "stdout",
     "output_type": "stream",
     "text": [
      "1546.1174569129944\n"
     ]
    }
   ],
   "source": [
    "# Run simulation\n",
    "simlength = 5000000\n",
    "t0 = time.time()\n",
    "dyn.run(simlength)\n",
    "print(time.time()-t0)"
   ]
  },
  {
   "cell_type": "code",
   "execution_count": 16,
   "metadata": {},
   "outputs": [
    {
     "data": {
      "application/vnd.jupyter.widget-view+json": {
       "model_id": "069be99d80394caeb4c7a6a8fc53bd1e",
       "version_major": 2,
       "version_minor": 0
      },
      "text/plain": []
     },
     "metadata": {},
     "output_type": "display_data"
    },
    {
     "data": {
      "application/vnd.jupyter.widget-view+json": {
       "model_id": "ce1affe5a8bb49838c28d9183d2df952",
       "version_major": 2,
       "version_minor": 0
      },
      "text/plain": [
       "HBox(children=(NGLWidget(max_frame=8), VBox(children=(Dropdown(description='Show', options=('All', 'Au'), valu…"
      ]
     },
     "metadata": {},
     "output_type": "display_data"
    }
   ],
   "source": [
    "fn = 'test_simfunction.traj'\n",
    "traj2 = ase.io.read(fn, index='1:5000')\n",
    "view(traj2, viewer='ngl')"
   ]
  },
  {
   "cell_type": "code",
   "execution_count": 317,
   "metadata": {},
   "outputs": [
    {
     "name": "stdout",
     "output_type": "stream",
     "text": [
      "(1358, 3)\n"
     ]
    },
    {
     "data": {
      "image/png": "[encoded data removed]",
      "text/plain": [
       "<Figure size 432x288 with 1 Axes>"
      ]
     },
     "metadata": {
      "needs_background": "light"
     },
     "output_type": "display_data"
    }
   ],
   "source": [
    "vels = traj2[1].get_velocities()\n",
    "print(vels.shape)\n",
    "plt.figure()\n",
    "plt.hist(vels[:,2], bins=20)\n",
    "plt.show()"
   ]
  },
  {
   "cell_type": "code",
   "execution_count": 318,
   "metadata": {},
   "outputs": [],
   "source": [
    "temps, pot_en, kin_en, vels, forces = [],[],[],[],[]\n",
    "for frame in range(20):\n",
    "    temps.append(traj2[frame].get_temperature())\n",
    "    #pot_en.append(traj2[frame].get_potential_energy())\n",
    "    kin_en.append(traj2[frame].get_kinetic_energy())\n",
    "    #forces.append(traj2[frame].get_forces())"
   ]
  },
  {
   "cell_type": "code",
   "execution_count": 319,
   "metadata": {},
   "outputs": [
    {
     "data": {
      "text/plain": [
       "[<matplotlib.lines.Line2D at 0x7fab9b496890>]"
      ]
     },
     "execution_count": 319,
     "metadata": {},
     "output_type": "execute_result"
    },
    {
     "data": {
      "image/png": "[encoded data removed]",
      "text/plain": [
       "<Figure size 432x288 with 1 Axes>"
      ]
     },
     "metadata": {
      "needs_background": "light"
     },
     "output_type": "display_data"
    }
   ],
   "source": [
    "plt.figure()\n",
    "#plt.plot(temps)\n",
    "#plt.plot(pot_en)\n",
    "plt.plot(kin_en)\n",
    "#plt.plot(forces)"
   ]
  },
  {
   "cell_type": "code",
   "execution_count": 3,
   "metadata": {},
   "outputs": [
    {
     "ename": "NameError",
     "evalue": "name 'write' is not defined",
     "output_type": "error",
     "traceback": [
      "\u001b[0;31m---------------------------------------------------------------------------\u001b[0m",
      "\u001b[0;31mNameError\u001b[0m                                 Traceback (most recent call last)",
      "\u001b[0;32m<ipython-input-3-8d318a9485d7>\u001b[0m in \u001b[0;36m<module>\u001b[0;34m\u001b[0m\n\u001b[0;32m----> 1\u001b[0;31m \u001b[0msim\u001b[0m\u001b[0;34m.\u001b[0m\u001b[0mconvert_traj\u001b[0m\u001b[0;34m(\u001b[0m\u001b[0;34m'test_simfunction.traj'\u001b[0m\u001b[0;34m,\u001b[0m \u001b[0;34m'test_convert.xyz'\u001b[0m\u001b[0;34m)\u001b[0m\u001b[0;34m\u001b[0m\u001b[0;34m\u001b[0m\u001b[0m\n\u001b[0m",
      "\u001b[0;32m~/Desktop/LAMMPS/sim.py\u001b[0m in \u001b[0;36mconvert_traj\u001b[0;34m(fn_read, fn_write)\u001b[0m\n\u001b[1;32m     83\u001b[0m         \u001b[0mstring\u001b[0m \u001b[0;34m=\u001b[0m \u001b[0;34m'structure%03d'\u001b[0m \u001b[0;34m%\u001b[0m \u001b[0;34m(\u001b[0m\u001b[0mi\u001b[0m\u001b[0;34m,\u001b[0m\u001b[0;34m)\u001b[0m \u001b[0;34m+\u001b[0m\u001b[0;34m'.xyz'\u001b[0m\u001b[0;34m\u001b[0m\u001b[0;34m\u001b[0m\u001b[0m\n\u001b[1;32m     84\u001b[0m         \u001b[0moutStruct\u001b[0m \u001b[0;34m=\u001b[0m \u001b[0mos\u001b[0m\u001b[0;34m.\u001b[0m\u001b[0mpath\u001b[0m\u001b[0;34m.\u001b[0m\u001b[0mjoin\u001b[0m\u001b[0;34m(\u001b[0m\u001b[0mpath\u001b[0m\u001b[0;34m,\u001b[0m \u001b[0mstring\u001b[0m\u001b[0;34m)\u001b[0m\u001b[0;34m\u001b[0m\u001b[0;34m\u001b[0m\u001b[0m\n\u001b[0;32m---> 85\u001b[0;31m         \u001b[0mwrite\u001b[0m\u001b[0;34m(\u001b[0m\u001b[0moutStruct\u001b[0m\u001b[0;34m,\u001b[0m \u001b[0matoms\u001b[0m\u001b[0;34m)\u001b[0m\u001b[0;34m\u001b[0m\u001b[0;34m\u001b[0m\u001b[0m\n\u001b[0m\u001b[1;32m     86\u001b[0m     \u001b[0;31m#combines all optimization structures in one trajectory file\u001b[0m\u001b[0;34m\u001b[0m\u001b[0;34m\u001b[0m\u001b[0;34m\u001b[0m\u001b[0m\n\u001b[1;32m     87\u001b[0m         inFile = open(os.path.join(path, 'structure%03d' % \n",
      "\u001b[0;31mNameError\u001b[0m: name 'write' is not defined"
     ]
    }
   ],
   "source": [
    "sim.convert_traj('test_simfunction.traj', 'test_convert.xyz')"
   ]
  },
  {
   "cell_type": "code",
   "execution_count": null,
   "metadata": {},
   "outputs": [],
   "source": []
  }
 ],
 "metadata": {
  "kernelspec": {
   "display_name": "md",
   "language": "python",
   "name": "md"
  },
  "language_info": {
   "codemirror_mode": {
    "name": "ipython",
    "version": 3
   },
   "file_extension": ".py",
   "mimetype": "text/x-python",
   "name": "python",
   "nbconvert_exporter": "python",
   "pygments_lexer": "ipython3",
   "version": "3.7.10"
  }
 },
 "nbformat": 4,
 "nbformat_minor": 4
}
