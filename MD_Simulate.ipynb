{
 "cells": [
  {
   "cell_type": "code",
   "execution_count": null,
   "id": "9e0a77a3-0c1a-4872-898b-c303bf2181b2",
   "metadata": {},
   "outputs": [],
   "source": [
    "import numpy as np\n",
    "import matplotlib.pyplot as plt\n",
    "import ase\n",
    "from ase import Atom, Atoms, cluster, units\n",
    "from ase.io.trajectory import Trajectory\n",
    "from asap3 import LennardJones\n",
    "from NCMD import create,simulate, analyze"
   ]
  },
  {
   "cell_type": "markdown",
   "id": "6fc40afb-5162-454c-924f-acf3bb6b9cc2",
   "metadata": {},
   "source": [
    "## Simulate"
   ]
  },
  {
   "cell_type": "code",
   "execution_count": null,
   "id": "c09b8a31-cc93-4770-8e36-93e0a33f3ada",
   "metadata": {},
   "outputs": [],
   "source": [
    "# Attach a Lennard-Jones pair-potential\n",
    "sigma = 0.2651 * units.nm  # 1\n",
    "epsilon = 2567*units.kB    # 1\n",
    "r_cutoff = 3*sigma\n",
    "r_onset = 2/3*r_cutoff"
   ]
  },
  {
   "cell_type": "code",
   "execution_count": null,
   "id": "76c05284-6eb6-4b55-b51d-ba8a6f9fe495",
   "metadata": {},
   "outputs": [],
   "source": [
    "r = np.arange(0.0001,10,step=0.0001)\n",
    "lj_pot = (4 * epsilon) * ( (sigma/r)**12 - (sigma/r)**6 )\n",
    "lj_f = -(24 * epsilon * sigma**6) *( (1/r**7) - (2*sigma**6 / r**13))"
   ]
  },
  {
   "cell_type": "code",
   "execution_count": null,
   "id": "cb6b3e5b-2ab9-4c0e-b5fc-c2c442c3b801",
   "metadata": {},
   "outputs": [],
   "source": [
    "fig, ax = plt.subplots(figsize = (6,5))\n",
    "ax.plot(r,lj_pot, label = 'Potential', color = 'r')\n",
    "ax.plot(r, lj_f, label = 'Force', color = 'b')\n",
    "\n",
    "ax.set_ylim(-0.4,0.6)\n",
    "ax.set_xlim(2,8)\n",
    "ax.vlines((r_onset),ax.get_ylim()[0],ax.get_ylim()[1],ls=':', color = 'k', label = 'Cutoff')\n",
    "ax.set_xlabel('r')\n",
    "ax.set_ylabel('V(r) or F(r)')\n",
    "plt.legend()\n",
    "\n",
    "plt.show()"
   ]
  },
  {
   "cell_type": "code",
   "execution_count": null,
   "id": "a4ebd8d8-35d3-464e-a53b-b81e093017ec",
   "metadata": {},
   "outputs": [],
   "source": [
    "scene_name = 'test_scene.xyz'\n",
    "atoms = ase.io.read(filename = scene_name)"
   ]
  },
  {
   "cell_type": "code",
   "execution_count": null,
   "id": "97b27826-93b8-46fb-b2ea-0037069e72a7",
   "metadata": {},
   "outputs": [],
   "source": [
    "calc = LennardJones(atoms.arrays['numbers'][0], sigma=sigma, epsilon=epsilon, rCut=r_cutoff, modified=True)"
   ]
  },
  {
   "cell_type": "code",
   "execution_count": null,
   "id": "7debe2e7-6ab6-49a9-b465-5e86eea26411",
   "metadata": {},
   "outputs": [],
   "source": [
    "atoms.calc = calc\n",
    "fn = 'test_simulation.traj'"
   ]
  },
  {
   "cell_type": "code",
   "execution_count": null,
   "id": "63da7b7e-4284-4e1c-9217-bccadc6246a4",
   "metadata": {},
   "outputs": [],
   "source": [
    "print(atoms.calc)"
   ]
  },
  {
   "cell_type": "code",
   "execution_count": null,
   "id": "175a0c9a-87aa-475c-81ca-7de2b9ab4669",
   "metadata": {},
   "outputs": [],
   "source": [
    "atoms_final = simulate.simulate_asap(atoms, fn = fn, temp = 100, \n",
    "                           time_step = 5, length = 1000, friction =0.005)"
   ]
  },
  {
   "cell_type": "code",
   "execution_count": null,
   "id": "b40037ba-4e0b-4735-94c3-ad1af97b3395",
   "metadata": {},
   "outputs": [],
   "source": [
    "traj2 = ase.io.read(fn, index='1:5000')\n",
    "view(traj2, viewer='ngl')"
   ]
  }
 ],
 "metadata": {
  "kernelspec": {
   "display_name": "md",
   "language": "python",
   "name": "md"
  },
  "language_info": {
   "codemirror_mode": {
    "name": "ipython",
    "version": 3
   },
   "file_extension": ".py",
   "mimetype": "text/x-python",
   "name": "python",
   "nbconvert_exporter": "python",
   "pygments_lexer": "ipython3",
   "version": "3.7.10"
  }
 },
 "nbformat": 4,
 "nbformat_minor": 5
}
